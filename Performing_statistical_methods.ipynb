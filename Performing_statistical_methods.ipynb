{
  "nbformat": 4,
  "nbformat_minor": 0,
  "metadata": {
    "colab": {
      "name": "Performing_statistical_methods.ipynb",
      "provenance": [],
      "authorship_tag": "ABX9TyNL8O2iYE4r8sn4PLrWgpSc",
      "include_colab_link": true
    },
    "kernelspec": {
      "name": "python3",
      "display_name": "Python 3"
    },
    "language_info": {
      "name": "python"
    }
  },
  "cells": [
    {
      "cell_type": "markdown",
      "metadata": {
        "id": "view-in-github",
        "colab_type": "text"
      },
      "source": [
        "<a href=\"https://colab.research.google.com/github/Bageshri123/Bageshri-Portfolio/blob/main/Performing_statistical_methods.ipynb\" target=\"_parent\"><img src=\"https://colab.research.google.com/assets/colab-badge.svg\" alt=\"Open In Colab\"/></a>"
      ]
    },
    {
      "cell_type": "markdown",
      "metadata": {
        "id": "l90pvb--WCHi"
      },
      "source": [
        "**Skills Covered**\n",
        "1.   Finding measures of central tendency (max, min, mean, median)\n",
        "2.   Finding standard deviation\n",
        "\n"
      ]
    },
    {
      "cell_type": "markdown",
      "metadata": {
        "id": "zCjs7zYQWyV6"
      },
      "source": [
        "Below I have run the function get_income_df() and store the result in a new dataframe called income_df.ANd then grouped income_df by State and calculated some statistics on the groups."
      ]
    },
    {
      "cell_type": "code",
      "metadata": {
        "colab": {
          "base_uri": "https://localhost:8080/",
          "height": 234
        },
        "id": "ZM6dgULcWWIu",
        "outputId": "39704dc2-3679-4c83-cc75-0a81a9b1a34f"
      },
      "source": [
        "#to get avearge of income and population for each state\n",
        "import pandas as pd\n",
        "\n",
        "def get_income_df(url):\n",
        "  county_level_df=pd.read_excel(url,sheet_name=\"county-level\")\n",
        "\n",
        "  state_level_df=pd.read_excel(url,sheet_name=\"state-level\")\n",
        "\n",
        "  income_new_df=pd.read_excel(url,sheet_name=\"income\")\n",
        "\n",
        "  county_level_df['Pop']=county_level_df['Population']  #to change name of column\n",
        "  county_level_df.drop(['Population'],axis=1)\n",
        "\n",
        "  state_level_df['Pop']=round(state_level_df['Pop']/1000) #to convert values to whole number\n",
        "  state_level_df['Pop']=state_level_df['Pop'].astype(int)\n",
        "\n",
        "  combined_df=pd.concat([county_level_df,state_level_df], join='inner', ignore_index=True) #to combine two dataframes\n",
        "   \n",
        "  income_df_v=income_new_df.append(combined_df,ignore_index=True) #to add new dataframe to combined dataframe\n",
        " \n",
        "\n",
        "  income_df_v4=income_df_v.sort_values(['Income'],ascending=False) #to sort dataframe by Income in descending order\n",
        "  \n",
        "  return income_df_v4\n",
        "\n",
        "\n",
        "\n",
        "url=\"https://github.com/futureCodersSE/working-with-data/blob/main/Data%20sets/Income-Data.xlsx?raw=true\"\n",
        "income_df=get_income_df(url)\n",
        "\n",
        "income_df[['State','Income','Pop']].groupby(['State']).mean()"
      ],
      "execution_count": null,
      "outputs": [
        {
          "output_type": "execute_result",
          "data": {
            "text/html": [
              "<div>\n",
              "<style scoped>\n",
              "    .dataframe tbody tr th:only-of-type {\n",
              "        vertical-align: middle;\n",
              "    }\n",
              "\n",
              "    .dataframe tbody tr th {\n",
              "        vertical-align: top;\n",
              "    }\n",
              "\n",
              "    .dataframe thead th {\n",
              "        text-align: right;\n",
              "    }\n",
              "</style>\n",
              "<table border=\"1\" class=\"dataframe\">\n",
              "  <thead>\n",
              "    <tr style=\"text-align: right;\">\n",
              "      <th></th>\n",
              "      <th>Income</th>\n",
              "      <th>Pop</th>\n",
              "    </tr>\n",
              "    <tr>\n",
              "      <th>State</th>\n",
              "      <th></th>\n",
              "      <th></th>\n",
              "    </tr>\n",
              "  </thead>\n",
              "  <tbody>\n",
              "    <tr>\n",
              "      <th>CA</th>\n",
              "      <td>66.333333</td>\n",
              "      <td>31.333333</td>\n",
              "    </tr>\n",
              "    <tr>\n",
              "      <th>IN</th>\n",
              "      <td>46.333333</td>\n",
              "      <td>17.333333</td>\n",
              "    </tr>\n",
              "    <tr>\n",
              "      <th>MD</th>\n",
              "      <td>64.230769</td>\n",
              "      <td>44.384615</td>\n",
              "    </tr>\n",
              "    <tr>\n",
              "      <th>NY</th>\n",
              "      <td>74.333333</td>\n",
              "      <td>12.000000</td>\n",
              "    </tr>\n",
              "    <tr>\n",
              "      <th>TX</th>\n",
              "      <td>59.454545</td>\n",
              "      <td>39.181818</td>\n",
              "    </tr>\n",
              "  </tbody>\n",
              "</table>\n",
              "</div>"
            ],
            "text/plain": [
              "          Income        Pop\n",
              "State                      \n",
              "CA     66.333333  31.333333\n",
              "IN     46.333333  17.333333\n",
              "MD     64.230769  44.384615\n",
              "NY     74.333333  12.000000\n",
              "TX     59.454545  39.181818"
            ]
          },
          "metadata": {
            "tags": []
          },
          "execution_count": 2
        }
      ]
    },
    {
      "cell_type": "code",
      "metadata": {
        "colab": {
          "base_uri": "https://localhost:8080/",
          "height": 234
        },
        "id": "zt6IgtCLW5SN",
        "outputId": "481ebc3c-d151-463e-b66d-5f258bf9106e"
      },
      "source": [
        "#to get lowest of income and population for each state\n",
        "\n",
        "income_df=get_income_df(url)\n",
        "income_df[['State','Income','Pop']].groupby(['State']).min()"
      ],
      "execution_count": null,
      "outputs": [
        {
          "output_type": "execute_result",
          "data": {
            "text/html": [
              "<div>\n",
              "<style scoped>\n",
              "    .dataframe tbody tr th:only-of-type {\n",
              "        vertical-align: middle;\n",
              "    }\n",
              "\n",
              "    .dataframe tbody tr th {\n",
              "        vertical-align: top;\n",
              "    }\n",
              "\n",
              "    .dataframe thead th {\n",
              "        text-align: right;\n",
              "    }\n",
              "</style>\n",
              "<table border=\"1\" class=\"dataframe\">\n",
              "  <thead>\n",
              "    <tr style=\"text-align: right;\">\n",
              "      <th></th>\n",
              "      <th>Income</th>\n",
              "      <th>Pop</th>\n",
              "    </tr>\n",
              "    <tr>\n",
              "      <th>State</th>\n",
              "      <th></th>\n",
              "      <th></th>\n",
              "    </tr>\n",
              "  </thead>\n",
              "  <tbody>\n",
              "    <tr>\n",
              "      <th>CA</th>\n",
              "      <td>54</td>\n",
              "      <td>10</td>\n",
              "    </tr>\n",
              "    <tr>\n",
              "      <th>IN</th>\n",
              "      <td>35</td>\n",
              "      <td>5</td>\n",
              "    </tr>\n",
              "    <tr>\n",
              "      <th>MD</th>\n",
              "      <td>22</td>\n",
              "      <td>5</td>\n",
              "    </tr>\n",
              "    <tr>\n",
              "      <th>NY</th>\n",
              "      <td>67</td>\n",
              "      <td>7</td>\n",
              "    </tr>\n",
              "    <tr>\n",
              "      <th>TX</th>\n",
              "      <td>45</td>\n",
              "      <td>5</td>\n",
              "    </tr>\n",
              "  </tbody>\n",
              "</table>\n",
              "</div>"
            ],
            "text/plain": [
              "       Income  Pop\n",
              "State             \n",
              "CA         54   10\n",
              "IN         35    5\n",
              "MD         22    5\n",
              "NY         67    7\n",
              "TX         45    5"
            ]
          },
          "metadata": {
            "tags": []
          },
          "execution_count": 3
        }
      ]
    },
    {
      "cell_type": "code",
      "metadata": {
        "colab": {
          "base_uri": "https://localhost:8080/",
          "height": 234
        },
        "id": "e8vq6fYaW9go",
        "outputId": "4fdf2aa2-a07b-4c9e-e743-2012b6a51927"
      },
      "source": [
        "#to get highest of income and population for each state\n",
        "\n",
        "income_df=get_income_df(url)\n",
        "income_df[['State','Income','Pop']].groupby(['State']).max()"
      ],
      "execution_count": null,
      "outputs": [
        {
          "output_type": "execute_result",
          "data": {
            "text/html": [
              "<div>\n",
              "<style scoped>\n",
              "    .dataframe tbody tr th:only-of-type {\n",
              "        vertical-align: middle;\n",
              "    }\n",
              "\n",
              "    .dataframe tbody tr th {\n",
              "        vertical-align: top;\n",
              "    }\n",
              "\n",
              "    .dataframe thead th {\n",
              "        text-align: right;\n",
              "    }\n",
              "</style>\n",
              "<table border=\"1\" class=\"dataframe\">\n",
              "  <thead>\n",
              "    <tr style=\"text-align: right;\">\n",
              "      <th></th>\n",
              "      <th>Income</th>\n",
              "      <th>Pop</th>\n",
              "    </tr>\n",
              "    <tr>\n",
              "      <th>State</th>\n",
              "      <th></th>\n",
              "      <th></th>\n",
              "    </tr>\n",
              "  </thead>\n",
              "  <tbody>\n",
              "    <tr>\n",
              "      <th>CA</th>\n",
              "      <td>78</td>\n",
              "      <td>54</td>\n",
              "    </tr>\n",
              "    <tr>\n",
              "      <th>IN</th>\n",
              "      <td>69</td>\n",
              "      <td>24</td>\n",
              "    </tr>\n",
              "    <tr>\n",
              "      <th>MD</th>\n",
              "      <td>81</td>\n",
              "      <td>98</td>\n",
              "    </tr>\n",
              "    <tr>\n",
              "      <th>NY</th>\n",
              "      <td>78</td>\n",
              "      <td>18</td>\n",
              "    </tr>\n",
              "    <tr>\n",
              "      <th>TX</th>\n",
              "      <td>75</td>\n",
              "      <td>82</td>\n",
              "    </tr>\n",
              "  </tbody>\n",
              "</table>\n",
              "</div>"
            ],
            "text/plain": [
              "       Income  Pop\n",
              "State             \n",
              "CA         78   54\n",
              "IN         69   24\n",
              "MD         81   98\n",
              "NY         78   18\n",
              "TX         75   82"
            ]
          },
          "metadata": {
            "tags": []
          },
          "execution_count": 4
        }
      ]
    },
    {
      "cell_type": "code",
      "metadata": {
        "colab": {
          "base_uri": "https://localhost:8080/",
          "height": 265
        },
        "id": "xQ-SADUgXBli",
        "outputId": "bfd18d47-9644-4948-b15b-18965d16c28c"
      },
      "source": [
        "#to get statistics of Income, Age, Population for each state\n",
        "\n",
        "income_df=get_income_df(url)\n",
        "income_df.groupby('State').agg(\n",
        "    {\n",
        "       \"Age\" :['min','max','mean','std','median'],\n",
        "       \"Income\":['min','max','mean','std','median'],\n",
        "       \"Pop\" :['min','max','mean','std','median']\n",
        "    }\n",
        ")"
      ],
      "execution_count": null,
      "outputs": [
        {
          "output_type": "execute_result",
          "data": {
            "text/html": [
              "<div>\n",
              "<style scoped>\n",
              "    .dataframe tbody tr th:only-of-type {\n",
              "        vertical-align: middle;\n",
              "    }\n",
              "\n",
              "    .dataframe tbody tr th {\n",
              "        vertical-align: top;\n",
              "    }\n",
              "\n",
              "    .dataframe thead tr th {\n",
              "        text-align: left;\n",
              "    }\n",
              "\n",
              "    .dataframe thead tr:last-of-type th {\n",
              "        text-align: right;\n",
              "    }\n",
              "</style>\n",
              "<table border=\"1\" class=\"dataframe\">\n",
              "  <thead>\n",
              "    <tr>\n",
              "      <th></th>\n",
              "      <th colspan=\"5\" halign=\"left\">Age</th>\n",
              "      <th colspan=\"5\" halign=\"left\">Income</th>\n",
              "      <th colspan=\"5\" halign=\"left\">Pop</th>\n",
              "    </tr>\n",
              "    <tr>\n",
              "      <th></th>\n",
              "      <th>min</th>\n",
              "      <th>max</th>\n",
              "      <th>mean</th>\n",
              "      <th>std</th>\n",
              "      <th>median</th>\n",
              "      <th>min</th>\n",
              "      <th>max</th>\n",
              "      <th>mean</th>\n",
              "      <th>std</th>\n",
              "      <th>median</th>\n",
              "      <th>min</th>\n",
              "      <th>max</th>\n",
              "      <th>mean</th>\n",
              "      <th>std</th>\n",
              "      <th>median</th>\n",
              "    </tr>\n",
              "    <tr>\n",
              "      <th>State</th>\n",
              "      <th></th>\n",
              "      <th></th>\n",
              "      <th></th>\n",
              "      <th></th>\n",
              "      <th></th>\n",
              "      <th></th>\n",
              "      <th></th>\n",
              "      <th></th>\n",
              "      <th></th>\n",
              "      <th></th>\n",
              "      <th></th>\n",
              "      <th></th>\n",
              "      <th></th>\n",
              "      <th></th>\n",
              "      <th></th>\n",
              "    </tr>\n",
              "  </thead>\n",
              "  <tbody>\n",
              "    <tr>\n",
              "      <th>CA</th>\n",
              "      <td>29</td>\n",
              "      <td>35</td>\n",
              "      <td>33.000000</td>\n",
              "      <td>3.464102</td>\n",
              "      <td>35</td>\n",
              "      <td>54</td>\n",
              "      <td>78</td>\n",
              "      <td>66.333333</td>\n",
              "      <td>12.013881</td>\n",
              "      <td>67</td>\n",
              "      <td>10</td>\n",
              "      <td>54</td>\n",
              "      <td>31.333333</td>\n",
              "      <td>22.030282</td>\n",
              "      <td>30</td>\n",
              "    </tr>\n",
              "    <tr>\n",
              "      <th>IN</th>\n",
              "      <td>32</td>\n",
              "      <td>41</td>\n",
              "      <td>38.000000</td>\n",
              "      <td>5.196152</td>\n",
              "      <td>41</td>\n",
              "      <td>35</td>\n",
              "      <td>69</td>\n",
              "      <td>46.333333</td>\n",
              "      <td>19.629909</td>\n",
              "      <td>35</td>\n",
              "      <td>5</td>\n",
              "      <td>24</td>\n",
              "      <td>17.333333</td>\n",
              "      <td>10.692677</td>\n",
              "      <td>23</td>\n",
              "    </tr>\n",
              "    <tr>\n",
              "      <th>MD</th>\n",
              "      <td>22</td>\n",
              "      <td>41</td>\n",
              "      <td>28.076923</td>\n",
              "      <td>5.203549</td>\n",
              "      <td>27</td>\n",
              "      <td>22</td>\n",
              "      <td>81</td>\n",
              "      <td>64.230769</td>\n",
              "      <td>16.931991</td>\n",
              "      <td>69</td>\n",
              "      <td>5</td>\n",
              "      <td>98</td>\n",
              "      <td>44.384615</td>\n",
              "      <td>30.845147</td>\n",
              "      <td>34</td>\n",
              "    </tr>\n",
              "    <tr>\n",
              "      <th>NY</th>\n",
              "      <td>29</td>\n",
              "      <td>34</td>\n",
              "      <td>32.333333</td>\n",
              "      <td>2.886751</td>\n",
              "      <td>34</td>\n",
              "      <td>67</td>\n",
              "      <td>78</td>\n",
              "      <td>74.333333</td>\n",
              "      <td>6.350853</td>\n",
              "      <td>78</td>\n",
              "      <td>7</td>\n",
              "      <td>18</td>\n",
              "      <td>12.000000</td>\n",
              "      <td>5.567764</td>\n",
              "      <td>11</td>\n",
              "    </tr>\n",
              "    <tr>\n",
              "      <th>TX</th>\n",
              "      <td>23</td>\n",
              "      <td>42</td>\n",
              "      <td>34.181818</td>\n",
              "      <td>6.161464</td>\n",
              "      <td>35</td>\n",
              "      <td>45</td>\n",
              "      <td>75</td>\n",
              "      <td>59.454545</td>\n",
              "      <td>9.668129</td>\n",
              "      <td>62</td>\n",
              "      <td>5</td>\n",
              "      <td>82</td>\n",
              "      <td>39.181818</td>\n",
              "      <td>26.049254</td>\n",
              "      <td>28</td>\n",
              "    </tr>\n",
              "  </tbody>\n",
              "</table>\n",
              "</div>"
            ],
            "text/plain": [
              "      Age                                  ... Pop                                 \n",
              "      min max       mean       std median  ... min max       mean        std median\n",
              "State                                      ...                                     \n",
              "CA     29  35  33.000000  3.464102     35  ...  10  54  31.333333  22.030282     30\n",
              "IN     32  41  38.000000  5.196152     41  ...   5  24  17.333333  10.692677     23\n",
              "MD     22  41  28.076923  5.203549     27  ...   5  98  44.384615  30.845147     34\n",
              "NY     29  34  32.333333  2.886751     34  ...   7  18  12.000000   5.567764     11\n",
              "TX     23  42  34.181818  6.161464     35  ...   5  82  39.181818  26.049254     28\n",
              "\n",
              "[5 rows x 15 columns]"
            ]
          },
          "metadata": {
            "tags": []
          },
          "execution_count": 5
        }
      ]
    },
    {
      "cell_type": "markdown",
      "metadata": {
        "id": "s7Ti05GEXIWz"
      },
      "source": [
        "These statstics shows, Maryland has lowest average age and highest average population.Although New York has lowest average population, it's average income is highest.Average age for Texas, New York and California is close by but still there is a big differance between average income and average population for these 3 states.\n",
        "\n",
        "Indiana and Maryland have the same maximum age but quiet different minimum age. For population these two states have same minimum population but a big differance in maximum population."
      ]
    },
    {
      "cell_type": "markdown",
      "metadata": {
        "id": "USRr5X_8YDb4"
      },
      "source": [
        "**Skills covered**\n",
        "\n",
        "Performing a linear regression"
      ]
    },
    {
      "cell_type": "markdown",
      "metadata": {
        "id": "fLEASy-4ZLwM"
      },
      "source": [
        "**Describing the data relatively**\n"
      ]
    },
    {
      "cell_type": "markdown",
      "metadata": {
        "id": "eQv458TcbiRI"
      },
      "source": [
        "In this code below, I have used a library scipy. Scipy is library of functions for interpolating, optimising, linear regression, etc.\n",
        "\n",
        "I have used linear regression to check if the columns 'Age' and 'Income' closely related in the data set 'Income-Data'.\n",
        "\n",
        "The result of the linregress function is a set of variables:\n",
        "\n",
        "slope, intercept - the gradient and y-intercept of the regression line (the line of best fit between the two series) are in regression.slope and regression.intercept\n",
        "\n",
        "rvalue - the correlation coefficient - this indicates how closely the line drawn from the linear regression data fits the actual data, the closer to 1 the better the fit\n",
        "\n",
        "pvalue - the probability of error if the regression line is extended to predict\n",
        "the standard error is in regression.stderr and is the average distance of each data point from the line of best fit."
      ]
    },
    {
      "cell_type": "code",
      "metadata": {
        "colab": {
          "base_uri": "https://localhost:8080/"
        },
        "id": "uoEfbs54ZSYd",
        "outputId": "46883b3f-491a-40e0-9d29-652228fe62f9"
      },
      "source": [
        "import pandas as pd\n",
        "from scipy.stats import linregress\n",
        "\n",
        "url=\"https://github.com/futureCodersSE/working-with-data/blob/main/Data%20sets/Income-Data.xlsx?raw=true\"\n",
        "county_level_df = pd.read_excel(url, sheet_name = \"county-level\")\n",
        "\n",
        "x = county_level_df['Age']\n",
        "y = county_level_df['Income'] \n",
        "\n",
        "regression = linregress(x,y)\n",
        "print(regression)\n",
        "\n",
        "#display the slope\n",
        "print(\"\\nSlope:\",regression.slope)\n",
        "\n",
        "# display the intercept\n",
        "print(\"\\nIntercept:\",regression.intercept)\n",
        "\n",
        "# calculate and display r_squared\n",
        "r_squared = regression.rvalue**2\n",
        "print(\"\\nr-squared:\",r_squared)"
      ],
      "execution_count": null,
      "outputs": [
        {
          "output_type": "stream",
          "text": [
            "LinregressResult(slope=-0.31433084434233205, intercept=72.78388856978748, rvalue=-0.14787411576068246, pvalue=0.5581637648902298, stderr=0.5255739814332189)\n",
            "\n",
            "Slope: -0.31433084434233205\n",
            "\n",
            "Intercept: 72.78388856978748\n",
            "\n",
            "r-squared: 0.021866754112003717\n"
          ],
          "name": "stdout"
        }
      ]
    },
    {
      "cell_type": "markdown",
      "metadata": {
        "id": "P9yMZSYEeK5T"
      },
      "source": [
        "The negative value of rvalue indicates that any correlation is inverse, ie as Age goes up, Income goes down"
      ]
    },
    {
      "cell_type": "markdown",
      "metadata": {
        "id": "Qu6FISi8dFWb"
      },
      "source": [
        "Below I have used linear regression to see if there is a clearer correlation between Population and Income.\n",
        "\n"
      ]
    },
    {
      "cell_type": "code",
      "metadata": {
        "colab": {
          "base_uri": "https://localhost:8080/"
        },
        "id": "AEiafSWOdaNG",
        "outputId": "4bd1adee-55dc-4c8e-8c7c-743535a4ffb4"
      },
      "source": [
        "x = county_level_df['Population']\n",
        "y = county_level_df['Income'] \n",
        "\n",
        "regression = linregress(x,y)\n",
        "print(regression)\n",
        "\n",
        "#display the slope\n",
        "print(\"\\nSlope:\",regression.slope)\n",
        "\n",
        "# display the intercept\n",
        "print(\"\\nIntercept:\",regression.intercept)\n",
        "\n",
        "# calculate and display r_squared\n",
        "r_squared = regression.rvalue**2\n",
        "print(\"\\nr-squared:\",r_squared)"
      ],
      "execution_count": null,
      "outputs": [
        {
          "output_type": "stream",
          "text": [
            "LinregressResult(slope=0.05737132629483762, intercept=60.95698211316883, rvalue=0.11644142628402862, pvalue=0.6454275157910035, stderr=0.12233846479490115)\n",
            "\n",
            "Slope: 0.05737132629483762\n",
            "\n",
            "Intercept: 60.95698211316883\n",
            "\n",
            "r-squared: 0.013558605755058871\n"
          ],
          "name": "stdout"
        }
      ]
    },
    {
      "cell_type": "markdown",
      "metadata": {
        "id": "0caO02weeTcj"
      },
      "source": [
        "Slope is positive (0.05737). This indicates that the line plotting Population against Income slopes upwords. That means income increases if population increases. *Intercept value indicates that income level starts at 60.956982 and increase from there by population. *r squared value(0.0135586) indiactes a weak corelation between population and income. The r value is positive which indicates there is a direct co realtion. If population goes up, income increases."
      ]
    },
    {
      "cell_type": "markdown",
      "metadata": {
        "id": "Q64Nt2ZYey4c"
      },
      "source": [
        "Below is the code to perform linear regression to check if stress predict wellbeing.I have written a function to check and display significance of regression."
      ]
    },
    {
      "cell_type": "code",
      "metadata": {
        "colab": {
          "base_uri": "https://localhost:8080/"
        },
        "id": "3JzzDFthezVr",
        "outputId": "58cc2898-238d-42c5-9ddb-3536e23aba12"
      },
      "source": [
        "import pandas as pd\n",
        "from scipy.stats import linregress\n",
        "\n",
        "#function to check significance of a regression\n",
        "def reg_significance(p):\n",
        "  if p<0.05:\n",
        "    print(\"\\np value (\",p,\") is less than 0.05.That indiactes, Stress is significant in predicting wellbeing\")\n",
        "  else:\n",
        "    print(\"\\np value (\",p,\") is greater than 0.05. That indicates, there is no statistical significance between Stress and wellbeing.\")\n",
        "\n",
        "\n",
        "url=\"https://github.com/lilaceri/Working-with-data-/blob/b157a2feceb7709cf82426932385706d65446270/Data%20Sets%20for%20code%20divisio/Positive_Psychology_2017.csv?raw=true\"\n",
        "wellbeing_df = pd.read_csv(url)\n",
        "\n",
        "x=wellbeing_df['Stress']\n",
        "y=wellbeing_df['Wellbeing']\n",
        "\n",
        "regression = linregress(x,y)\n",
        "print(regression)\n",
        "\n",
        "print(\"\\nr squared:\", regression.rvalue**2)\n",
        "\n",
        "reg_significance(regression.pvalue)\n"
      ],
      "execution_count": null,
      "outputs": [
        {
          "output_type": "stream",
          "text": [
            "LinregressResult(slope=-0.6279050248852254, intercept=37.713488379900454, rvalue=-0.6713959740851134, pvalue=6.084540561441803e-07, stderr=0.10694652962765022)\n",
            "\n",
            "r squared: 0.4507725540176983\n",
            "\n",
            "p value ( 6.084540561441803e-07 ) is less than 0.05.That indiactes, Stress is significant in predicting wellbeing\n"
          ],
          "name": "stdout"
        }
      ]
    },
    {
      "cell_type": "markdown",
      "metadata": {
        "id": "UCE8QpxwzR9X"
      },
      "source": [
        "Slope is negative (-0.627905) which means line plotting stress against wellbeing slopes downwords. Which indicates wellbeing increases if stress decreases. Although  r squared value 0.45 indicates this correaltion is weak or low effect size."
      ]
    },
    {
      "cell_type": "markdown",
      "metadata": {
        "id": "x0PeVnSX8NbT"
      },
      "source": [
        "**Linear regression and scatterplot for normal data**"
      ]
    },
    {
      "cell_type": "markdown",
      "metadata": {
        "id": "MpbdClPL8pd0"
      },
      "source": [
        "I have performed a linear regression to find a line of best fit between Resilliance (x) and selfesteem (y)"
      ]
    },
    {
      "cell_type": "code",
      "metadata": {
        "colab": {
          "base_uri": "https://localhost:8080/",
          "height": 279
        },
        "id": "-RqRoSZH-1gw",
        "outputId": "b38e014e-6ffd-45bf-b324-0663afec1721"
      },
      "source": [
        "from scipy.stats import linregress\n",
        "\n",
        "x=psych_df['Resilliance']\n",
        "y=psych_df['selfesteem']\n",
        "\n",
        "plt.scatter(x,y)\n",
        "plt.xlabel('Resilliance')\n",
        "plt.ylabel('Selfesteem')\n",
        "\n",
        "regression=linregress(x,y)\n",
        "slope = regression.slope\n",
        "intercept = regression.intercept\n",
        "plt.plot(x, slope*x + intercept)\n",
        "\n",
        "plt.show()"
      ],
      "execution_count": 11,
      "outputs": [
        {
          "output_type": "display_data",
          "data": {
            "image/png": "[encoded data removed]",
            "text/plain": [
              "<Figure size 432x288 with 1 Axes>"
            ]
          },
          "metadata": {
            "tags": [],
            "needs_background": "light"
          }
        }
      ]
    },
    {
      "cell_type": "markdown",
      "metadata": {
        "id": "xDACX1VrDZ6I"
      },
      "source": [
        "The line of best fit is sloping upwords, indicating positive relationship between Selfesteem and Resilliance. The points on the graph are more scattered about the trend line. This indicates the the correaltion is not very strong."
      ]
    },
    {
      "cell_type": "markdown",
      "metadata": {
        "id": "AFKz_tTA0oKn"
      },
      "source": [
        "**Skills Covered**\n",
        "\n",
        "Checking for normal distribution\n",
        "\n"
      ]
    },
    {
      "cell_type": "markdown",
      "metadata": {
        "id": "zSSBQZex0-1v"
      },
      "source": [
        "**Testing for normality Graphically**"
      ]
    },
    {
      "cell_type": "markdown",
      "metadata": {
        "id": "M46UWRPe1g0U"
      },
      "source": [
        "Below, I have used Psychological Wellbeing dataset.I have imported pandas and   matplotlib.plyplot (used for creating static, animated, and interactive visualizations)libraries.I have used df.info() and df.describe() to understand and get familarise with the data Then I have plotted histogram to check of  Resilliance to check if data is normally distributed."
      ]
    },
    {
      "cell_type": "code",
      "metadata": {
        "colab": {
          "base_uri": "https://localhost:8080/",
          "height": 203
        },
        "id": "iFHknBTP3Voc",
        "outputId": "c0e12445-c7b8-4318-e2a2-8add5d89f3e2"
      },
      "source": [
        "import pandas as pd\n",
        "import matplotlib.pyplot as plt\n",
        "\n",
        "url=\"https://github.com/lilaceri/Working-with-data-/blob/b157a2feceb7709cf82426932385706d65446270/Data%20Sets%20for%20code%20divisio/Positive_Psychology_2017.csv?raw=true\"\n",
        "psych_df=pd.read_csv(url)\n",
        "\n",
        "psych_df.head()"
      ],
      "execution_count": 1,
      "outputs": [
        {
          "output_type": "execute_result",
          "data": {
            "text/html": [
              "<div>\n",
              "<style scoped>\n",
              "    .dataframe tbody tr th:only-of-type {\n",
              "        vertical-align: middle;\n",
              "    }\n",
              "\n",
              "    .dataframe tbody tr th {\n",
              "        vertical-align: top;\n",
              "    }\n",
              "\n",
              "    .dataframe thead th {\n",
              "        text-align: right;\n",
              "    }\n",
              "</style>\n",
              "<table border=\"1\" class=\"dataframe\">\n",
              "  <thead>\n",
              "    <tr style=\"text-align: right;\">\n",
              "      <th></th>\n",
              "      <th>Age</th>\n",
              "      <th>English</th>\n",
              "      <th>firstlanguage</th>\n",
              "      <th>sex</th>\n",
              "      <th>origin</th>\n",
              "      <th>Ukresidence</th>\n",
              "      <th>MAAS</th>\n",
              "      <th>Resilliance</th>\n",
              "      <th>Wellbeing</th>\n",
              "      <th>Stress</th>\n",
              "      <th>selfesteem</th>\n",
              "      <th>LoC</th>\n",
              "      <th>sleep</th>\n",
              "      <th>Year</th>\n",
              "    </tr>\n",
              "  </thead>\n",
              "  <tbody>\n",
              "    <tr>\n",
              "      <th>0</th>\n",
              "      <td>24</td>\n",
              "      <td>Your Second Language</td>\n",
              "      <td>Arabic</td>\n",
              "      <td>Female</td>\n",
              "      <td>Outside Europe</td>\n",
              "      <td>0.0</td>\n",
              "      <td>4.60</td>\n",
              "      <td>44</td>\n",
              "      <td>26</td>\n",
              "      <td>19</td>\n",
              "      <td>22</td>\n",
              "      <td>10</td>\n",
              "      <td>32</td>\n",
              "      <td>2017</td>\n",
              "    </tr>\n",
              "    <tr>\n",
              "      <th>1</th>\n",
              "      <td>22</td>\n",
              "      <td>Your Second Language</td>\n",
              "      <td>Arabic</td>\n",
              "      <td>Female</td>\n",
              "      <td>Outside Europe</td>\n",
              "      <td>0.0</td>\n",
              "      <td>2.60</td>\n",
              "      <td>29</td>\n",
              "      <td>10</td>\n",
              "      <td>37</td>\n",
              "      <td>9</td>\n",
              "      <td>16</td>\n",
              "      <td>10</td>\n",
              "      <td>2017</td>\n",
              "    </tr>\n",
              "    <tr>\n",
              "      <th>2</th>\n",
              "      <td>26</td>\n",
              "      <td>Your Second Language</td>\n",
              "      <td>Burmese</td>\n",
              "      <td>Female</td>\n",
              "      <td>Outside Europe</td>\n",
              "      <td>0.0</td>\n",
              "      <td>4.13</td>\n",
              "      <td>26</td>\n",
              "      <td>20</td>\n",
              "      <td>20</td>\n",
              "      <td>18</td>\n",
              "      <td>20</td>\n",
              "      <td>24</td>\n",
              "      <td>2017</td>\n",
              "    </tr>\n",
              "    <tr>\n",
              "      <th>3</th>\n",
              "      <td>23</td>\n",
              "      <td>Your Second Language</td>\n",
              "      <td>Chinese</td>\n",
              "      <td>Male</td>\n",
              "      <td>Outside Europe</td>\n",
              "      <td>0.0</td>\n",
              "      <td>2.77</td>\n",
              "      <td>30</td>\n",
              "      <td>16</td>\n",
              "      <td>28</td>\n",
              "      <td>20</td>\n",
              "      <td>17</td>\n",
              "      <td>10</td>\n",
              "      <td>2017</td>\n",
              "    </tr>\n",
              "    <tr>\n",
              "      <th>4</th>\n",
              "      <td>25</td>\n",
              "      <td>Your Second Language</td>\n",
              "      <td>Chinese</td>\n",
              "      <td>Female</td>\n",
              "      <td>Outside Europe</td>\n",
              "      <td>0.0</td>\n",
              "      <td>3.80</td>\n",
              "      <td>33</td>\n",
              "      <td>27</td>\n",
              "      <td>15</td>\n",
              "      <td>18</td>\n",
              "      <td>12</td>\n",
              "      <td>17</td>\n",
              "      <td>2017</td>\n",
              "    </tr>\n",
              "  </tbody>\n",
              "</table>\n",
              "</div>"
            ],
            "text/plain": [
              "   Age               English firstlanguage  ... LoC sleep  Year\n",
              "0   24  Your Second Language        Arabic  ...  10    32  2017\n",
              "1   22  Your Second Language        Arabic  ...  16    10  2017\n",
              "2   26  Your Second Language       Burmese  ...  20    24  2017\n",
              "3   23  Your Second Language       Chinese  ...  17    10  2017\n",
              "4   25  Your Second Language       Chinese  ...  12    17  2017\n",
              "\n",
              "[5 rows x 14 columns]"
            ]
          },
          "metadata": {
            "tags": []
          },
          "execution_count": 1
        }
      ]
    },
    {
      "cell_type": "code",
      "metadata": {
        "colab": {
          "base_uri": "https://localhost:8080/"
        },
        "id": "cllio2-A3c1B",
        "outputId": "e228221f-fd4f-4783-869f-9d30c1f15921"
      },
      "source": [
        "psych_df.info()"
      ],
      "execution_count": 2,
      "outputs": [
        {
          "output_type": "stream",
          "text": [
            "<class 'pandas.core.frame.DataFrame'>\n",
            "RangeIndex: 44 entries, 0 to 43\n",
            "Data columns (total 14 columns):\n",
            " #   Column         Non-Null Count  Dtype  \n",
            "---  ------         --------------  -----  \n",
            " 0   Age            44 non-null     int64  \n",
            " 1   English        44 non-null     object \n",
            " 2   firstlanguage  18 non-null     object \n",
            " 3   sex            44 non-null     object \n",
            " 4   origin         44 non-null     object \n",
            " 5   Ukresidence    44 non-null     float64\n",
            " 6   MAAS           44 non-null     float64\n",
            " 7   Resilliance    44 non-null     int64  \n",
            " 8   Wellbeing      44 non-null     int64  \n",
            " 9   Stress         44 non-null     int64  \n",
            " 10  selfesteem     44 non-null     int64  \n",
            " 11  LoC            44 non-null     int64  \n",
            " 12  sleep          44 non-null     int64  \n",
            " 13  Year           44 non-null     int64  \n",
            "dtypes: float64(2), int64(8), object(4)\n",
            "memory usage: 4.9+ KB\n"
          ],
          "name": "stdout"
        }
      ]
    },
    {
      "cell_type": "code",
      "metadata": {
        "colab": {
          "base_uri": "https://localhost:8080/",
          "height": 295
        },
        "id": "_nUsjtpS3lc1",
        "outputId": "72b11849-3fe8-49e8-fb0c-440b718ec3a6"
      },
      "source": [
        "psych_df.describe()"
      ],
      "execution_count": 3,
      "outputs": [
        {
          "output_type": "execute_result",
          "data": {
            "text/html": [
              "<div>\n",
              "<style scoped>\n",
              "    .dataframe tbody tr th:only-of-type {\n",
              "        vertical-align: middle;\n",
              "    }\n",
              "\n",
              "    .dataframe tbody tr th {\n",
              "        vertical-align: top;\n",
              "    }\n",
              "\n",
              "    .dataframe thead th {\n",
              "        text-align: right;\n",
              "    }\n",
              "</style>\n",
              "<table border=\"1\" class=\"dataframe\">\n",
              "  <thead>\n",
              "    <tr style=\"text-align: right;\">\n",
              "      <th></th>\n",
              "      <th>Age</th>\n",
              "      <th>Ukresidence</th>\n",
              "      <th>MAAS</th>\n",
              "      <th>Resilliance</th>\n",
              "      <th>Wellbeing</th>\n",
              "      <th>Stress</th>\n",
              "      <th>selfesteem</th>\n",
              "      <th>LoC</th>\n",
              "      <th>sleep</th>\n",
              "      <th>Year</th>\n",
              "    </tr>\n",
              "  </thead>\n",
              "  <tbody>\n",
              "    <tr>\n",
              "      <th>count</th>\n",
              "      <td>44.000000</td>\n",
              "      <td>44.000000</td>\n",
              "      <td>44.000000</td>\n",
              "      <td>44.000000</td>\n",
              "      <td>44.000000</td>\n",
              "      <td>44.000000</td>\n",
              "      <td>44.000000</td>\n",
              "      <td>44.000000</td>\n",
              "      <td>44.000000</td>\n",
              "      <td>44.0</td>\n",
              "    </tr>\n",
              "    <tr>\n",
              "      <th>mean</th>\n",
              "      <td>26.568182</td>\n",
              "      <td>8.193182</td>\n",
              "      <td>3.788636</td>\n",
              "      <td>34.681818</td>\n",
              "      <td>24.113636</td>\n",
              "      <td>21.659091</td>\n",
              "      <td>19.022727</td>\n",
              "      <td>12.045455</td>\n",
              "      <td>20.727273</td>\n",
              "      <td>2017.0</td>\n",
              "    </tr>\n",
              "    <tr>\n",
              "      <th>std</th>\n",
              "      <td>8.968673</td>\n",
              "      <td>11.121536</td>\n",
              "      <td>0.866824</td>\n",
              "      <td>6.461956</td>\n",
              "      <td>7.421577</td>\n",
              "      <td>7.935622</td>\n",
              "      <td>5.534201</td>\n",
              "      <td>5.709863</td>\n",
              "      <td>8.420251</td>\n",
              "      <td>0.0</td>\n",
              "    </tr>\n",
              "    <tr>\n",
              "      <th>min</th>\n",
              "      <td>14.000000</td>\n",
              "      <td>0.000000</td>\n",
              "      <td>2.300000</td>\n",
              "      <td>18.000000</td>\n",
              "      <td>7.000000</td>\n",
              "      <td>3.000000</td>\n",
              "      <td>7.000000</td>\n",
              "      <td>4.000000</td>\n",
              "      <td>4.000000</td>\n",
              "      <td>2017.0</td>\n",
              "    </tr>\n",
              "    <tr>\n",
              "      <th>25%</th>\n",
              "      <td>22.750000</td>\n",
              "      <td>0.000000</td>\n",
              "      <td>3.225000</td>\n",
              "      <td>30.000000</td>\n",
              "      <td>20.000000</td>\n",
              "      <td>18.500000</td>\n",
              "      <td>17.000000</td>\n",
              "      <td>8.000000</td>\n",
              "      <td>12.750000</td>\n",
              "      <td>2017.0</td>\n",
              "    </tr>\n",
              "    <tr>\n",
              "      <th>50%</th>\n",
              "      <td>24.000000</td>\n",
              "      <td>1.500000</td>\n",
              "      <td>3.915000</td>\n",
              "      <td>35.000000</td>\n",
              "      <td>25.500000</td>\n",
              "      <td>21.500000</td>\n",
              "      <td>19.000000</td>\n",
              "      <td>11.500000</td>\n",
              "      <td>23.500000</td>\n",
              "      <td>2017.0</td>\n",
              "    </tr>\n",
              "    <tr>\n",
              "      <th>75%</th>\n",
              "      <td>26.250000</td>\n",
              "      <td>19.750000</td>\n",
              "      <td>4.325000</td>\n",
              "      <td>39.250000</td>\n",
              "      <td>28.250000</td>\n",
              "      <td>28.000000</td>\n",
              "      <td>22.250000</td>\n",
              "      <td>16.000000</td>\n",
              "      <td>28.000000</td>\n",
              "      <td>2017.0</td>\n",
              "    </tr>\n",
              "    <tr>\n",
              "      <th>max</th>\n",
              "      <td>74.000000</td>\n",
              "      <td>30.000000</td>\n",
              "      <td>6.700000</td>\n",
              "      <td>47.000000</td>\n",
              "      <td>38.000000</td>\n",
              "      <td>37.000000</td>\n",
              "      <td>30.000000</td>\n",
              "      <td>27.000000</td>\n",
              "      <td>32.000000</td>\n",
              "      <td>2017.0</td>\n",
              "    </tr>\n",
              "  </tbody>\n",
              "</table>\n",
              "</div>"
            ],
            "text/plain": [
              "             Age  Ukresidence       MAAS  ...        LoC      sleep    Year\n",
              "count  44.000000    44.000000  44.000000  ...  44.000000  44.000000    44.0\n",
              "mean   26.568182     8.193182   3.788636  ...  12.045455  20.727273  2017.0\n",
              "std     8.968673    11.121536   0.866824  ...   5.709863   8.420251     0.0\n",
              "min    14.000000     0.000000   2.300000  ...   4.000000   4.000000  2017.0\n",
              "25%    22.750000     0.000000   3.225000  ...   8.000000  12.750000  2017.0\n",
              "50%    24.000000     1.500000   3.915000  ...  11.500000  23.500000  2017.0\n",
              "75%    26.250000    19.750000   4.325000  ...  16.000000  28.000000  2017.0\n",
              "max    74.000000    30.000000   6.700000  ...  27.000000  32.000000  2017.0\n",
              "\n",
              "[8 rows x 10 columns]"
            ]
          },
          "metadata": {
            "tags": []
          },
          "execution_count": 3
        }
      ]
    },
    {
      "cell_type": "code",
      "metadata": {
        "colab": {
          "base_uri": "https://localhost:8080/",
          "height": 265
        },
        "id": "y2IwqPZv4C8T",
        "outputId": "1f0f1114-4cd9-4c12-f59b-c078d9b1db9d"
      },
      "source": [
        "data=psych_df['Resilliance']\n",
        "plt.hist(data)\n",
        "plt.ylabel('Resilliance')\n",
        "\n",
        "plt.show()"
      ],
      "execution_count": 4,
      "outputs": [
        {
          "output_type": "display_data",
          "data": {
            "image/png": "[encoded data removed]",
            "text/plain": [
              "<Figure size 432x288 with 1 Axes>"
            ]
          },
          "metadata": {
            "tags": [],
            "needs_background": "light"
          }
        }
      ]
    },
    {
      "cell_type": "markdown",
      "metadata": {
        "id": "IvJNVPt_4PQe"
      },
      "source": [
        "In the histogram above the data looks normally distributed. But the shape is rough so, it is not entirely obvious. To get a better idea, I have performed probability plot below. To perform the probability plot, I have loaded in another library : stats from scipy."
      ]
    },
    {
      "cell_type": "code",
      "metadata": {
        "colab": {
          "base_uri": "https://localhost:8080/",
          "height": 295
        },
        "id": "3wme7l6m5C41",
        "outputId": "b755224d-e1de-4627-fccf-7f71241a4355"
      },
      "source": [
        "from scipy import stats\n",
        "\n",
        "data=psych_df['Resilliance']\n",
        "stats.probplot(data,plot=plt)\n",
        "\n",
        "plt.show()"
      ],
      "execution_count": 5,
      "outputs": [
        {
          "output_type": "display_data",
          "data": {
            "image/png": "[encoded data removed]",
            "text/plain": [
              "<Figure size 432x288 with 1 Axes>"
            ]
          },
          "metadata": {
            "tags": [],
            "needs_background": "light"
          }
        }
      ]
    },
    {
      "cell_type": "markdown",
      "metadata": {
        "id": "22IPsoiJ5OhF"
      },
      "source": [
        "In this probability plot, we can see that, the dots (actual data) follow the theoretical line on the plot, it shows the 2 are similar and therefore normally distributed."
      ]
    },
    {
      "cell_type": "markdown",
      "metadata": {
        "id": "S9EsZVPr5c8Y"
      },
      "source": [
        "**Histogram of non-Gaussian data**"
      ]
    },
    {
      "cell_type": "markdown",
      "metadata": {
        "id": "ov8LKkUO5hwM"
      },
      "source": [
        "For this, I have used US election data.I checked data for missing values and have used dropna() to drop records with null values. Once, data was cleaned, I plotted histogram of national_turnout to check if the data is normally distributed."
      ]
    },
    {
      "cell_type": "code",
      "metadata": {
        "colab": {
          "base_uri": "https://localhost:8080/",
          "height": 307
        },
        "id": "u36ooLBu6SjH",
        "outputId": "84dd6d4d-83b1-4138-d0fc-e23173abca4d"
      },
      "source": [
        "import pandas as pd\n",
        "import matplotlib.pyplot as plt\n",
        "from scipy import stats\n",
        "\n",
        "url=\"https://raw.githubusercontent.com/futureCodersSE/working-with-data/main/Data%20sets/Data%20Cleaning%20Data%20Sets/presDirty.csv?raw=true\"\n",
        "election_df=pd.read_csv(url)\n",
        "\n",
        "election_df.head()"
      ],
      "execution_count": 6,
      "outputs": [
        {
          "output_type": "execute_result",
          "data": {
            "text/html": [
              "<div>\n",
              "<style scoped>\n",
              "    .dataframe tbody tr th:only-of-type {\n",
              "        vertical-align: middle;\n",
              "    }\n",
              "\n",
              "    .dataframe tbody tr th {\n",
              "        vertical-align: top;\n",
              "    }\n",
              "\n",
              "    .dataframe thead th {\n",
              "        text-align: right;\n",
              "    }\n",
              "</style>\n",
              "<table border=\"1\" class=\"dataframe\">\n",
              "  <thead>\n",
              "    <tr style=\"text-align: right;\">\n",
              "      <th></th>\n",
              "      <th>cycle</th>\n",
              "      <th>branch</th>\n",
              "      <th>model</th>\n",
              "      <th>modeldate</th>\n",
              "      <th>candidate_inc</th>\n",
              "      <th>candidate_chal</th>\n",
              "      <th>nat_voteshare_other_hi</th>\n",
              "      <th>national_voteshare_inc_lo</th>\n",
              "      <th>national_voteshare_chal_lo</th>\n",
              "      <th>national_voteshare_3rd_lo</th>\n",
              "      <th>nat_voteshare_other_lo</th>\n",
              "      <th>national_turnout</th>\n",
              "      <th>national_turnout_hi</th>\n",
              "      <th>national_turnout_lo</th>\n",
              "      <th>timestamp</th>\n",
              "      <th>simulations</th>\n",
              "    </tr>\n",
              "  </thead>\n",
              "  <tbody>\n",
              "    <tr>\n",
              "      <th>0</th>\n",
              "      <td>2020</td>\n",
              "      <td>President</td>\n",
              "      <td>polls-plus</td>\n",
              "      <td>11/03/2020</td>\n",
              "      <td>Trump</td>\n",
              "      <td>Biden</td>\n",
              "      <td>1.842986</td>\n",
              "      <td>42.91262</td>\n",
              "      <td>50.87952</td>\n",
              "      <td>NaN</td>\n",
              "      <td>0.724433</td>\n",
              "      <td>157972048.0</td>\n",
              "      <td>168424640.0</td>\n",
              "      <td>147487920.0</td>\n",
              "      <td>03/11/2020 00:00</td>\n",
              "      <td>40000</td>\n",
              "    </tr>\n",
              "    <tr>\n",
              "      <th>1</th>\n",
              "      <td>2020</td>\n",
              "      <td>President</td>\n",
              "      <td>polls-plus</td>\n",
              "      <td>11/02/2020</td>\n",
              "      <td>Trump</td>\n",
              "      <td>Biden</td>\n",
              "      <td>1.842986</td>\n",
              "      <td>42.91348</td>\n",
              "      <td>50.88025</td>\n",
              "      <td>NaN</td>\n",
              "      <td>0.724433</td>\n",
              "      <td>157972048.0</td>\n",
              "      <td>168424640.0</td>\n",
              "      <td>147487920.0</td>\n",
              "      <td>02/11/2020 23:45</td>\n",
              "      <td>40000</td>\n",
              "    </tr>\n",
              "    <tr>\n",
              "      <th>2</th>\n",
              "      <td>2020</td>\n",
              "      <td>President</td>\n",
              "      <td>polls-plus</td>\n",
              "      <td>11/02/2020</td>\n",
              "      <td>Trump</td>\n",
              "      <td>Biden</td>\n",
              "      <td>1.842986</td>\n",
              "      <td>42.91348</td>\n",
              "      <td>50.88025</td>\n",
              "      <td>NaN</td>\n",
              "      <td>0.724433</td>\n",
              "      <td>157972048.0</td>\n",
              "      <td>168424640.0</td>\n",
              "      <td>147487920.0</td>\n",
              "      <td>02/11/2020 23:45</td>\n",
              "      <td>40000</td>\n",
              "    </tr>\n",
              "    <tr>\n",
              "      <th>3</th>\n",
              "      <td>2020</td>\n",
              "      <td>President</td>\n",
              "      <td>polls-plus</td>\n",
              "      <td>10/31/2020</td>\n",
              "      <td>Trump</td>\n",
              "      <td>Biden</td>\n",
              "      <td>1.835479</td>\n",
              "      <td>42.98096</td>\n",
              "      <td>50.74764</td>\n",
              "      <td>NaN</td>\n",
              "      <td>0.689802</td>\n",
              "      <td>158044784.0</td>\n",
              "      <td>168497376.0</td>\n",
              "      <td>147560672.0</td>\n",
              "      <td>31/10/2020 22:23</td>\n",
              "      <td>40000</td>\n",
              "    </tr>\n",
              "    <tr>\n",
              "      <th>4</th>\n",
              "      <td>2020</td>\n",
              "      <td>President</td>\n",
              "      <td>polls-plus</td>\n",
              "      <td>10/30/2020</td>\n",
              "      <td>Trump</td>\n",
              "      <td>Biden</td>\n",
              "      <td>1.847821</td>\n",
              "      <td>42.92510</td>\n",
              "      <td>50.72821</td>\n",
              "      <td>NaN</td>\n",
              "      <td>0.692837</td>\n",
              "      <td>156723120.0</td>\n",
              "      <td>167175712.0</td>\n",
              "      <td>146239008.0</td>\n",
              "      <td>30/10/2020 21:34</td>\n",
              "      <td>40000</td>\n",
              "    </tr>\n",
              "  </tbody>\n",
              "</table>\n",
              "</div>"
            ],
            "text/plain": [
              "   cycle     branch  ...         timestamp simulations\n",
              "0   2020  President  ...  03/11/2020 00:00       40000\n",
              "1   2020  President  ...  02/11/2020 23:45       40000\n",
              "2   2020  President  ...  02/11/2020 23:45       40000\n",
              "3   2020  President  ...  31/10/2020 22:23       40000\n",
              "4   2020  President  ...  30/10/2020 21:34       40000\n",
              "\n",
              "[5 rows x 16 columns]"
            ]
          },
          "metadata": {
            "tags": []
          },
          "execution_count": 6
        }
      ]
    },
    {
      "cell_type": "code",
      "metadata": {
        "colab": {
          "base_uri": "https://localhost:8080/"
        },
        "id": "KPpTx8iU6Wnt",
        "outputId": "9d6bcf59-7195-46b5-a5a7-8c37f2683935"
      },
      "source": [
        "election_df.info()"
      ],
      "execution_count": 7,
      "outputs": [
        {
          "output_type": "stream",
          "text": [
            "<class 'pandas.core.frame.DataFrame'>\n",
            "RangeIndex: 156 entries, 0 to 155\n",
            "Data columns (total 16 columns):\n",
            " #   Column                      Non-Null Count  Dtype  \n",
            "---  ------                      --------------  -----  \n",
            " 0   cycle                       156 non-null    int64  \n",
            " 1   branch                      156 non-null    object \n",
            " 2   model                       156 non-null    object \n",
            " 3   modeldate                   156 non-null    object \n",
            " 4   candidate_inc               156 non-null    object \n",
            " 5   candidate_chal              156 non-null    object \n",
            " 6   nat_voteshare_other_hi      156 non-null    float64\n",
            " 7   national_voteshare_inc_lo   156 non-null    float64\n",
            " 8   national_voteshare_chal_lo  156 non-null    float64\n",
            " 9   national_voteshare_3rd_lo   0 non-null      float64\n",
            " 10  nat_voteshare_other_lo      156 non-null    float64\n",
            " 11  national_turnout            59 non-null     float64\n",
            " 12  national_turnout_hi         59 non-null     float64\n",
            " 13  national_turnout_lo         59 non-null     float64\n",
            " 14  timestamp                   156 non-null    object \n",
            " 15  simulations                 156 non-null    int64  \n",
            "dtypes: float64(8), int64(2), object(6)\n",
            "memory usage: 19.6+ KB\n"
          ],
          "name": "stdout"
        }
      ]
    },
    {
      "cell_type": "code",
      "metadata": {
        "colab": {
          "base_uri": "https://localhost:8080/"
        },
        "id": "3Z30Ji7-6bWt",
        "outputId": "226db472-8277-41cc-e39a-f21d69141432"
      },
      "source": [
        "election_df1=election_df\n",
        "election_df1.drop('national_voteshare_3rd_lo',inplace=True,axis=1)\n",
        "\n",
        "election_df1=election_df1.dropna()\n",
        "\n",
        "election_df1.info()"
      ],
      "execution_count": 8,
      "outputs": [
        {
          "output_type": "stream",
          "text": [
            "<class 'pandas.core.frame.DataFrame'>\n",
            "Int64Index: 59 entries, 0 to 58\n",
            "Data columns (total 15 columns):\n",
            " #   Column                      Non-Null Count  Dtype  \n",
            "---  ------                      --------------  -----  \n",
            " 0   cycle                       59 non-null     int64  \n",
            " 1   branch                      59 non-null     object \n",
            " 2   model                       59 non-null     object \n",
            " 3   modeldate                   59 non-null     object \n",
            " 4   candidate_inc               59 non-null     object \n",
            " 5   candidate_chal              59 non-null     object \n",
            " 6   nat_voteshare_other_hi      59 non-null     float64\n",
            " 7   national_voteshare_inc_lo   59 non-null     float64\n",
            " 8   national_voteshare_chal_lo  59 non-null     float64\n",
            " 9   nat_voteshare_other_lo      59 non-null     float64\n",
            " 10  national_turnout            59 non-null     float64\n",
            " 11  national_turnout_hi         59 non-null     float64\n",
            " 12  national_turnout_lo         59 non-null     float64\n",
            " 13  timestamp                   59 non-null     object \n",
            " 14  simulations                 59 non-null     int64  \n",
            "dtypes: float64(7), int64(2), object(6)\n",
            "memory usage: 7.4+ KB\n"
          ],
          "name": "stdout"
        }
      ]
    },
    {
      "cell_type": "code",
      "metadata": {
        "colab": {
          "base_uri": "https://localhost:8080/",
          "height": 278
        },
        "id": "amsq-CkY6faa",
        "outputId": "be5bfda4-3927-465a-8eb6-a0925e67f4b3"
      },
      "source": [
        "data=election_df1['national_turnout']\n",
        "plt.hist(data)\n",
        "\n",
        "plt.show()"
      ],
      "execution_count": 9,
      "outputs": [
        {
          "output_type": "display_data",
          "data": {
            "image/png": "[encoded data removed]",
            "text/plain": [
              "<Figure size 432x288 with 1 Axes>"
            ]
          },
          "metadata": {
            "tags": [],
            "needs_background": "light"
          }
        }
      ]
    },
    {
      "cell_type": "markdown",
      "metadata": {
        "id": "d8flYRGh65SJ"
      },
      "source": [
        "Looking at the shape of Histogram, the data doesn't look normally distributed. Let's do another check by plotting probability plot for the same data."
      ]
    },
    {
      "cell_type": "code",
      "metadata": {
        "colab": {
          "base_uri": "https://localhost:8080/",
          "height": 295
        },
        "id": "K1eASBvp7Ji3",
        "outputId": "de80ef52-70a3-4514-b62a-07a4e30dc8e3"
      },
      "source": [
        "stats.probplot(data,plot=plt)\n",
        "plt.show()"
      ],
      "execution_count": 10,
      "outputs": [
        {
          "output_type": "display_data",
          "data": {
            "image/png": "[encoded data removed]",
            "text/plain": [
              "<Figure size 432x288 with 1 Axes>"
            ]
          },
          "metadata": {
            "tags": [],
            "needs_background": "light"
          }
        }
      ]
    },
    {
      "cell_type": "markdown",
      "metadata": {
        "id": "3lvnmnSE7Wjf"
      },
      "source": [
        "We can see that, the dots (actual data) do not follow the theoretical line on the plot. Hence, the data is not normally distributed. "
      ]
    }
  ]
}